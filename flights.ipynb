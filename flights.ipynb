{
 "cells": [
  {
   "cell_type": "markdown",
   "id": "c22e9c75-b75a-41de-92d2-c1790fa6e54f",
   "metadata": {},
   "source": [
    "## The EDA"
   ]
  },
  {
   "cell_type": "markdown",
   "id": "da7b22c3-027d-4619-b95e-cfc4d50e53bf",
   "metadata": {},
   "source": [
    "Answering to the question \n",
    "\n",
    "Do we have the RIGHT data to perform the prediction ?\n",
    "\n",
    "For the purpose of EDA , following objective will be put into consideration.\n",
    "\n",
    "- See if we have outliers and anomolies.\n",
    "- See if data is skewed in particular range."
   ]
  },
  {
   "cell_type": "markdown",
   "id": "d732ba3e-e652-4dcc-9b44-d22c0473cdbe",
   "metadata": {},
   "source": [
    "## Checking what is installed"
   ]
  },
  {
   "cell_type": "code",
   "execution_count": 2,
   "id": "521782d0-18cc-4d50-bfb5-f50c9c3b74d9",
   "metadata": {
    "tags": []
   },
   "outputs": [
    {
     "name": "stdout",
     "output_type": "stream",
     "text": [
      "absl-py==2.2.1\n",
      "aiofiles==22.1.0\n",
      "aiohappyeyeballs==2.6.1\n",
      "aiohttp==3.11.14\n",
      "aiohttp-cors==0.8.0\n",
      "aiosignal==1.3.2\n",
      "aiosqlite==0.21.0\n",
      "annotated-types==0.7.0\n",
      "ansicolors==1.1.8\n",
      "anyio==4.9.0\n",
      "archspec @ file:///home/conda/feedstock_root/build_artifacts/archspec_1737352602016/work\n",
      "argon2-cffi==23.1.0\n",
      "argon2-cffi-bindings==21.2.0\n",
      "arrow==1.3.0\n",
      "asttokens==3.0.0\n",
      "async-timeout==5.0.1\n",
      "atpublic==5.1\n",
      "attrs==25.3.0\n",
      "babel==2.17.0\n",
      "backoff==2.2.1\n",
      "backports.tarfile==1.2.0\n",
      "beautifulsoup4==4.13.3\n",
      "bigframes==1.42.0\n",
      "bleach==6.2.0\n",
      "blessed==1.20.0\n",
      "boltons @ file:///home/conda/feedstock_root/build_artifacts/boltons_1733827268945/work\n",
      "bq_stats @ file:///tmp/environments/base/pip/packages/bq_stats\n",
      "Brotli @ file:///home/conda/feedstock_root/build_artifacts/brotli-split_1725267488082/work\n",
      "cachetools==5.5.2\n",
      "certifi @ file:///home/conda/feedstock_root/build_artifacts/certifi_1739515848642/work/certifi\n",
      "cffi @ file:///home/conda/feedstock_root/build_artifacts/cffi_1725560520483/work\n",
      "charset-normalizer @ file:///home/conda/feedstock_root/build_artifacts/charset-normalizer_1735929714516/work\n",
      "click==8.1.8\n",
      "cloud-tpu-client==0.7\n",
      "cloudpickle==3.1.1\n",
      "colorama @ file:///home/conda/feedstock_root/build_artifacts/colorama_1733218098505/work\n",
      "colorful==0.5.6\n",
      "comm==0.2.2\n",
      "conda @ file:///home/conda/feedstock_root/build_artifacts/conda_1743046454070/work/conda-src\n",
      "conda-libmamba-solver @ file:///home/conda/feedstock_root/build_artifacts/conda-libmamba-solver_1742219570693/work/src\n",
      "conda-package-handling @ file:///home/conda/feedstock_root/build_artifacts/conda-package-handling_1736345463896/work\n",
      "conda_package_streaming @ file:///home/conda/feedstock_root/build_artifacts/conda-package-streaming_1741620732069/work\n",
      "contourpy==1.3.1\n",
      "cryptography==44.0.2\n",
      "cupy-cuda12x==13.4.1\n",
      "cycler==0.12.1\n",
      "dacite==1.9.2\n",
      "db-dtypes==1.4.2\n",
      "debugpy==1.8.13\n",
      "decorator==5.2.1\n",
      "defusedxml==0.7.1\n",
      "Deprecated==1.2.18\n",
      "distlib==0.3.9\n",
      "distro @ file:///home/conda/feedstock_root/build_artifacts/distro_1734729835256/work\n",
      "dm-tree==0.1.9\n",
      "docker==7.1.0\n",
      "docstring_parser==0.16\n",
      "entrypoints==0.4\n",
      "exceptiongroup==1.2.2\n",
      "executing==2.2.0\n",
      "Farama-Notifications==0.0.4\n",
      "fastapi==0.115.12\n",
      "fastjsonschema==2.21.1\n",
      "fastrlock==0.8.3\n",
      "filelock==3.18.0\n",
      "fonttools==4.56.0\n",
      "fqdn==1.5.1\n",
      "frozendict @ file:///home/conda/feedstock_root/build_artifacts/frozendict_1728841320383/work\n",
      "frozenlist==1.5.0\n",
      "fsspec==2025.3.0\n",
      "gcsfs==2025.3.0\n",
      "geopandas==1.0.1\n",
      "gitdb==4.0.12\n",
      "GitPython==3.1.44\n",
      "google-api-core==2.24.2\n",
      "google-api-python-client==2.166.0\n",
      "google-auth==2.38.0\n",
      "google-auth-httplib2==0.2.0\n",
      "google-auth-oauthlib==1.2.1\n",
      "google-cloud-aiplatform==1.86.0\n",
      "google-cloud-artifact-registry==1.15.2\n",
      "google-cloud-bigquery==3.31.0\n",
      "google-cloud-bigquery-connection==1.18.2\n",
      "google-cloud-bigquery-storage==2.30.0\n",
      "google-cloud-bigtable==2.30.0\n",
      "google-cloud-core==2.4.3\n",
      "google-cloud-datastore==1.15.5\n",
      "google-cloud-functions==1.20.2\n",
      "google-cloud-iam==2.18.3\n",
      "google-cloud-language==2.17.1\n",
      "google-cloud-monitoring==2.27.1\n",
      "google-cloud-pubsub==2.29.0\n",
      "google-cloud-resource-manager==1.14.2\n",
      "google-cloud-storage==2.19.0\n",
      "google-crc32c==1.7.1\n",
      "google-resumable-media==2.7.2\n",
      "googleapis-common-protos==1.69.2\n",
      "gpustat==1.0.0\n",
      "greenlet==3.1.1\n",
      "grpc-google-iam-v1==0.14.2\n",
      "grpcio==1.71.0\n",
      "grpcio-status==1.49.0rc1\n",
      "gymnasium==1.0.0\n",
      "h11==0.14.0\n",
      "h2 @ file:///home/conda/feedstock_root/build_artifacts/h2_1738578511449/work\n",
      "hpack @ file:///home/conda/feedstock_root/build_artifacts/hpack_1737618293087/work\n",
      "htmlmin==0.1.12\n",
      "httplib2==0.22.0\n",
      "httptools==0.6.4\n",
      "humanize==4.12.2\n",
      "hyperframe @ file:///home/conda/feedstock_root/build_artifacts/hyperframe_1737618333194/work\n",
      "idna @ file:///home/conda/feedstock_root/build_artifacts/idna_1733211830134/work\n",
      "ImageHash==4.3.1\n",
      "importlib_metadata==8.6.1\n",
      "ipykernel==6.29.5\n",
      "ipython==8.21.0\n",
      "ipython-genutils==0.2.0\n",
      "ipython-sql==0.5.0\n",
      "ipywidgets==8.1.5\n",
      "isoduration==20.11.0\n",
      "jaraco.classes==3.4.0\n",
      "jaraco.context==6.0.1\n",
      "jaraco.functools==4.1.0\n",
      "jedi==0.19.2\n",
      "jeepney==0.9.0\n",
      "jellyfish==1.1.0\n",
      "Jinja2==3.1.6\n",
      "joblib==1.4.2\n",
      "json5==0.10.0\n",
      "jsonpatch @ file:///home/conda/feedstock_root/build_artifacts/jsonpatch_1733814567314/work\n",
      "jsonpointer @ file:///home/conda/feedstock_root/build_artifacts/jsonpointer_1725302897999/work\n",
      "jsonschema==4.23.0\n",
      "jsonschema-specifications==2024.10.1\n",
      "jupyter-events==0.12.0\n",
      "jupyter-server-mathjax==0.2.6\n",
      "jupyter-ydoc==0.2.5\n",
      "jupyter_client==7.4.9\n",
      "jupyter_core==5.7.2\n",
      "jupyter_server==2.15.0\n",
      "jupyter_server_fileid==0.9.3\n",
      "jupyter_server_terminals==0.5.3\n",
      "jupyter_server_ydoc==0.8.0\n",
      "jupyterlab==3.6.8\n",
      "jupyterlab_pygments==0.3.0\n",
      "jupyterlab_server==2.27.3\n",
      "jupyterlab_widgets==3.0.13\n",
      "keyring==25.6.0\n",
      "keyrings.google-artifactregistry-auth==1.1.2\n",
      "kfp==2.5.0\n",
      "kfp-pipeline-spec==0.2.2\n",
      "kfp-server-api==2.0.5\n",
      "kiwisolver==1.4.8\n",
      "kubernetes==26.1.0\n",
      "libmambapy @ file:///home/conda/feedstock_root/build_artifacts/mamba-split_1743062582999/work/libmambapy\n",
      "linkify-it-py==2.0.3\n",
      "llvmlite==0.44.0\n",
      "lz4==4.4.3\n",
      "markdown-it-py==3.0.0\n",
      "MarkupSafe==3.0.2\n",
      "matplotlib==3.10.0\n",
      "matplotlib-inline==0.1.7\n",
      "mdit-py-plugins==0.4.2\n",
      "mdurl==0.1.2\n",
      "memray==1.16.0\n",
      "menuinst @ file:///home/conda/feedstock_root/build_artifacts/menuinst_1731146967497/work\n",
      "mistune==3.1.3\n",
      "more-itertools==10.6.0\n",
      "msgpack==1.1.0\n",
      "multidict==6.2.0\n",
      "multimethod==1.12\n",
      "narwhals==1.32.0\n",
      "nbclassic==1.2.0\n",
      "nbclient==0.10.2\n",
      "nbconvert==7.16.6\n",
      "nbdime==3.2.0\n",
      "nbformat==5.10.4\n",
      "nest-asyncio==1.6.0\n",
      "networkx==3.4.2\n",
      "notebook==6.5.7\n",
      "notebook_shim==0.2.4\n",
      "numba==0.61.0\n",
      "numpy==2.1.3\n",
      "nvidia-ml-py==11.495.46\n",
      "oauth2client==4.1.3\n",
      "oauthlib==3.2.2\n",
      "opencensus==0.11.4\n",
      "opencensus-context==0.1.3\n",
      "opentelemetry-api==1.31.1\n",
      "opentelemetry-exporter-otlp==1.15.0\n",
      "opentelemetry-exporter-otlp-proto-grpc==1.15.0\n",
      "opentelemetry-exporter-otlp-proto-http==1.15.0\n",
      "opentelemetry-proto==1.15.0\n",
      "opentelemetry-sdk==1.31.1\n",
      "opentelemetry-semantic-conventions==0.52b1\n",
      "ormsgpack==1.7.0\n",
      "overrides==7.7.0\n",
      "packaging @ file:///home/conda/feedstock_root/build_artifacts/packaging_1733203243479/work\n",
      "pandas==2.2.3\n",
      "pandas-gbq==0.28.0\n",
      "pandas-profiling==3.6.6\n",
      "pandocfilters==1.5.1\n",
      "papermill==2.6.0\n",
      "parso==0.8.4\n",
      "parsy==2.1\n",
      "patsy==1.0.1\n",
      "pexpect==4.9.0\n",
      "phik==0.12.4\n",
      "pillow==11.1.0\n",
      "platformdirs @ file:///home/conda/feedstock_root/build_artifacts/platformdirs_1733232627818/work\n",
      "plotly==6.0.1\n",
      "pluggy @ file:///home/conda/feedstock_root/build_artifacts/pluggy_1733222765875/work\n",
      "prettytable==3.16.0\n",
      "prometheus_client==0.21.1\n",
      "prompt_toolkit==3.0.50\n",
      "propcache==0.3.1\n",
      "proto-plus==1.26.1\n",
      "protobuf==3.20.3\n",
      "psutil==5.9.3\n",
      "ptyprocess==0.7.0\n",
      "pure_eval==0.2.3\n",
      "puremagic==1.28\n",
      "py-spy==0.4.0\n",
      "pyarrow==19.0.1\n",
      "pyasn1==0.6.1\n",
      "pyasn1_modules==0.4.2\n",
      "pycosat @ file:///home/conda/feedstock_root/build_artifacts/pycosat_1732588391741/work\n",
      "pycparser @ file:///home/conda/feedstock_root/build_artifacts/bld/rattler-build_pycparser_1733195786/work\n",
      "pydantic==2.11.0\n",
      "pydantic_core==2.33.0\n",
      "pydata-google-auth==1.9.1\n",
      "Pygments==2.19.1\n",
      "pyogrio==0.10.0\n",
      "pyOpenSSL==25.0.0\n",
      "pyparsing==3.2.3\n",
      "pyproj==3.7.1\n",
      "PySocks @ file:///home/conda/feedstock_root/build_artifacts/pysocks_1733217236728/work\n",
      "python-dateutil==2.9.0.post0\n",
      "python-dotenv==1.1.0\n",
      "python-json-logger==3.3.0\n",
      "pytz==2025.2\n",
      "PyWavelets==1.8.0\n",
      "PyYAML==6.0.2\n",
      "pyzmq==26.3.0\n",
      "ray==2.44.1\n",
      "referencing==0.36.2\n",
      "requests @ file:///home/conda/feedstock_root/build_artifacts/requests_1733217035951/work\n",
      "requests-oauthlib==2.0.0\n",
      "requests-toolbelt==0.10.1\n",
      "retrying==1.3.4\n",
      "rfc3339-validator==0.1.4\n",
      "rfc3986-validator==0.1.1\n",
      "rich==13.9.4\n",
      "rpds-py==0.24.0\n",
      "rsa==4.9\n",
      "ruamel.yaml @ file:///home/conda/feedstock_root/build_artifacts/ruamel.yaml_1736248022260/work\n",
      "ruamel.yaml.clib @ file:///home/conda/feedstock_root/build_artifacts/ruamel.yaml.clib_1728724455198/work\n",
      "scikit-learn==1.6.1\n",
      "scipy==1.15.2\n",
      "seaborn==0.13.2\n",
      "SecretStorage==3.3.3\n",
      "Send2Trash==1.8.3\n",
      "shapely==2.0.7\n",
      "six==1.17.0\n",
      "smart-open==7.1.0\n",
      "smmap==5.0.2\n",
      "sniffio==1.3.1\n",
      "soupsieve==2.6\n",
      "SQLAlchemy==2.0.40\n",
      "sqlglot==26.12.0\n",
      "sqlparse==0.5.3\n",
      "stack-data==0.6.3\n",
      "starlette==0.46.1\n",
      "statsmodels==0.14.4\n",
      "tabulate==0.9.0\n",
      "tenacity==9.0.0\n",
      "tensorboardX==2.6.2.2\n",
      "terminado==0.18.1\n",
      "textual==3.0.0\n",
      "threadpoolctl==3.6.0\n",
      "tinycss2==1.4.0\n",
      "tomli==2.2.1\n",
      "toolz==1.0.0\n",
      "tornado==6.4.2\n",
      "tqdm @ file:///home/conda/feedstock_root/build_artifacts/tqdm_1735661334605/work\n",
      "traitlets==5.14.3\n",
      "truststore @ file:///home/conda/feedstock_root/build_artifacts/bld/rattler-build_truststore_1739009763/work\n",
      "typeguard==4.4.2\n",
      "types-python-dateutil==2.9.0.20241206\n",
      "typing-inspection==0.4.0\n",
      "typing_extensions==4.13.0\n",
      "tzdata==2025.2\n",
      "uc-micro-py==1.0.3\n",
      "uri-template==1.3.0\n",
      "uritemplate==4.1.1\n",
      "urllib3==1.26.20\n",
      "uvicorn==0.34.0\n",
      "uvloop==0.21.0\n",
      "virtualenv==20.29.3\n",
      "visions==0.8.1\n",
      "watchfiles==1.0.4\n",
      "wcwidth==0.2.13\n",
      "webcolors==24.11.1\n",
      "webencodings==0.5.1\n",
      "websocket-client==1.8.0\n",
      "websockets==15.0.1\n",
      "widgetsnbextension==4.0.13\n",
      "wordcloud==1.9.4\n",
      "wrapt==1.17.2\n",
      "y-py==0.6.2\n",
      "yarl==1.18.3\n",
      "ydata-profiling==4.16.1\n",
      "ypy-websocket==0.8.4\n",
      "zipp==3.21.0\n",
      "zstandard==0.23.0\n",
      "Note: you may need to restart the kernel to use updated packages.\n"
     ]
    }
   ],
   "source": [
    "%pip freeze"
   ]
  },
  {
   "cell_type": "markdown",
   "id": "bb54e4a6-11b1-4f4f-9fea-3a8dd3696ef5",
   "metadata": {},
   "source": [
    "## Setup environment"
   ]
  },
  {
   "cell_type": "markdown",
   "id": "76467d9f-f9e0-41d5-be62-faf2cef6c032",
   "metadata": {},
   "source": [
    "### Setup package"
   ]
  },
  {
   "cell_type": "code",
   "execution_count": 1,
   "id": "2eefad0b-b647-413e-8c44-12a3fc3145e8",
   "metadata": {
    "tags": []
   },
   "outputs": [],
   "source": [
    "import matplotlib.pyplot as plt\n",
    "import seaborn as sb\n",
    "import pandas as pd\n",
    "import numpy as np"
   ]
  },
  {
   "cell_type": "markdown",
   "id": "ccfc0039-a8ff-4b27-adb0-0a76cc2642e2",
   "metadata": {},
   "source": [
    "### Additional packages"
   ]
  },
  {
   "cell_type": "code",
   "execution_count": 2,
   "id": "f6ca4936-d92e-4f58-a916-e2c9d0faf21f",
   "metadata": {
    "tags": []
   },
   "outputs": [
    {
     "name": "stdout",
     "output_type": "stream",
     "text": [
      "Requirement already satisfied: pytz in /opt/conda/lib/python3.10/site-packages (2025.2)\n",
      "Note: you may need to restart the kernel to use updated packages.\n"
     ]
    }
   ],
   "source": [
    "%pip install pytz"
   ]
  },
  {
   "cell_type": "markdown",
   "id": "b4a2f3e9-d3a1-41bf-914c-af295a02ea7e",
   "metadata": {},
   "source": [
    "## Running query in bigquery"
   ]
  },
  {
   "cell_type": "markdown",
   "id": "45f0e3a9-7b9c-4570-9282-68fccf56831d",
   "metadata": {},
   "source": [
    "### Raw query"
   ]
  },
  {
   "cell_type": "code",
   "execution_count": 3,
   "id": "fc182dde-4d83-40a1-94a5-6c5de4afe529",
   "metadata": {
    "tags": []
   },
   "outputs": [
    {
     "data": {
      "application/vnd.jupyter.widget-view+json": {
       "model_id": "11dee85747f74419ac15596ea3b97354",
       "version_major": 2,
       "version_minor": 0
      },
      "text/plain": [
       "Query is running:   0%|          |"
      ]
     },
     "metadata": {},
     "output_type": "display_data"
    },
    {
     "data": {
      "application/vnd.jupyter.widget-view+json": {
       "model_id": "d287aee23d4d4d45b5f687a28871dbb4",
       "version_major": 2,
       "version_minor": 0
      },
      "text/plain": [
       "Downloading:   0%|          |"
      ]
     },
     "metadata": {},
     "output_type": "display_data"
    },
    {
     "data": {
      "text/html": [
       "<div>\n",
       "<style scoped>\n",
       "    .dataframe tbody tr th:only-of-type {\n",
       "        vertical-align: middle;\n",
       "    }\n",
       "\n",
       "    .dataframe tbody tr th {\n",
       "        vertical-align: top;\n",
       "    }\n",
       "\n",
       "    .dataframe thead th {\n",
       "        text-align: right;\n",
       "    }\n",
       "</style>\n",
       "<table border=\"1\" class=\"dataframe\">\n",
       "  <thead>\n",
       "    <tr style=\"text-align: right;\">\n",
       "      <th></th>\n",
       "      <th>frac_delayed</th>\n",
       "    </tr>\n",
       "  </thead>\n",
       "  <tbody>\n",
       "    <tr>\n",
       "      <th>0</th>\n",
       "      <td>0.186111</td>\n",
       "    </tr>\n",
       "  </tbody>\n",
       "</table>\n",
       "</div>"
      ],
      "text/plain": [
       "   frac_delayed\n",
       "0      0.186111"
      ]
     },
     "execution_count": 3,
     "metadata": {},
     "output_type": "execute_result"
    }
   ],
   "source": [
    "%%bigquery\n",
    "SELECT \n",
    "    COUNTIF(arr_delay >= 15)/COUNT(arr_delay) AS frac_delayed\n",
    "FROM dsongcp.flights_tzcorr"
   ]
  },
  {
   "cell_type": "markdown",
   "id": "30001b91-72ea-49c1-9323-1b8e78eae7d6",
   "metadata": {},
   "source": [
    "### As dataframe"
   ]
  },
  {
   "cell_type": "code",
   "execution_count": 4,
   "id": "89912b68-7ba8-4c6f-b857-ec5db263bbdc",
   "metadata": {
    "tags": []
   },
   "outputs": [
    {
     "name": "stdout",
     "output_type": "stream",
     "text": [
      "   frac_delayed\n",
      "0      0.186111\n"
     ]
    }
   ],
   "source": [
    "sql = \"\"\"\n",
    "SELECT \n",
    "    COUNTIF(arr_delay >= 15)/COUNT(arr_delay) AS frac_delayed\n",
    "FROM dsongcp.flights_tzcorr\n",
    "\"\"\"\n",
    "\n",
    "from google.cloud import bigquery\n",
    "bq = bigquery.Client()\n",
    "df = bq.query(sql).to_dataframe()\n",
    "print(df)"
   ]
  },
  {
   "cell_type": "markdown",
   "id": "fbfcaf30-3e0d-4ba7-9d8f-7f5cbe46c175",
   "metadata": {},
   "source": [
    "## Basic statistics"
   ]
  },
  {
   "cell_type": "code",
   "execution_count": 5,
   "id": "272bd1b4-4726-415a-a8c1-9f17210f3898",
   "metadata": {
    "tags": []
   },
   "outputs": [
    {
     "data": {
      "application/vnd.jupyter.widget-view+json": {
       "model_id": "f75993c030cd446ea0c9f4383466e9ac",
       "version_major": 2,
       "version_minor": 0
      },
      "text/plain": [
       "Query is running:   0%|          |"
      ]
     },
     "metadata": {},
     "output_type": "display_data"
    },
    {
     "data": {
      "application/vnd.jupyter.widget-view+json": {
       "model_id": "7c6b949cd4c241dc9d786ff6b23d6233",
       "version_major": 2,
       "version_minor": 0
      },
      "text/plain": [
       "Downloading:   0%|          |"
      ]
     },
     "metadata": {},
     "output_type": "display_data"
    }
   ],
   "source": [
    "%%bigquery df\n",
    "SELECT arr_delay, dep_delay\n",
    "FROM dsongcp.flights_tzcorr\n",
    "WHERE DEP_DELAY >= 10"
   ]
  },
  {
   "cell_type": "code",
   "execution_count": 6,
   "id": "093acf67-8bb1-48a6-afcd-08ed30e43310",
   "metadata": {
    "tags": []
   },
   "outputs": [
    {
     "data": {
      "text/html": [
       "<div>\n",
       "<style scoped>\n",
       "    .dataframe tbody tr th:only-of-type {\n",
       "        vertical-align: middle;\n",
       "    }\n",
       "\n",
       "    .dataframe tbody tr th {\n",
       "        vertical-align: top;\n",
       "    }\n",
       "\n",
       "    .dataframe thead th {\n",
       "        text-align: right;\n",
       "    }\n",
       "</style>\n",
       "<table border=\"1\" class=\"dataframe\">\n",
       "  <thead>\n",
       "    <tr style=\"text-align: right;\">\n",
       "      <th></th>\n",
       "      <th>arr_delay</th>\n",
       "      <th>dep_delay</th>\n",
       "    </tr>\n",
       "  </thead>\n",
       "  <tbody>\n",
       "    <tr>\n",
       "      <th>count</th>\n",
       "      <td>1286778.0</td>\n",
       "      <td>1294778.0</td>\n",
       "    </tr>\n",
       "    <tr>\n",
       "      <th>mean</th>\n",
       "      <td>46.117972</td>\n",
       "      <td>50.945163</td>\n",
       "    </tr>\n",
       "    <tr>\n",
       "      <th>std</th>\n",
       "      <td>63.606998</td>\n",
       "      <td>61.514225</td>\n",
       "    </tr>\n",
       "    <tr>\n",
       "      <th>min</th>\n",
       "      <td>-78.0</td>\n",
       "      <td>10.0</td>\n",
       "    </tr>\n",
       "    <tr>\n",
       "      <th>25%</th>\n",
       "      <td>11.0</td>\n",
       "      <td>17.0</td>\n",
       "    </tr>\n",
       "    <tr>\n",
       "      <th>50%</th>\n",
       "      <td>27.0</td>\n",
       "      <td>30.0</td>\n",
       "    </tr>\n",
       "    <tr>\n",
       "      <th>75%</th>\n",
       "      <td>59.0</td>\n",
       "      <td>61.0</td>\n",
       "    </tr>\n",
       "    <tr>\n",
       "      <th>max</th>\n",
       "      <td>1971.0</td>\n",
       "      <td>1988.0</td>\n",
       "    </tr>\n",
       "  </tbody>\n",
       "</table>\n",
       "</div>"
      ],
      "text/plain": [
       "       arr_delay  dep_delay\n",
       "count  1286778.0  1294778.0\n",
       "mean   46.117972  50.945163\n",
       "std    63.606998  61.514225\n",
       "min        -78.0       10.0\n",
       "25%         11.0       17.0\n",
       "50%         27.0       30.0\n",
       "75%         59.0       61.0\n",
       "max       1971.0     1988.0"
      ]
     },
     "execution_count": 6,
     "metadata": {},
     "output_type": "execute_result"
    }
   ],
   "source": [
    "df.describe()"
   ]
  },
  {
   "cell_type": "code",
   "execution_count": 7,
   "id": "f47c65e3-ab99-410f-8ab2-aa9f28be7444",
   "metadata": {
    "tags": []
   },
   "outputs": [
    {
     "data": {
      "text/plain": [
       "(-50.0, 300.0)"
      ]
     },
     "execution_count": 7,
     "metadata": {},
     "output_type": "execute_result"
    },
    {
     "data": {
      "image/png": "[encoded data removed]",
      "text/plain": [
       "<Figure size 640x480 with 1 Axes>"
      ]
     },
     "metadata": {},
     "output_type": "display_data"
    }
   ],
   "source": [
    "sb.set_style(\"whitegrid\")\n",
    "ax = sb.violinplot(data=df, x='arr_delay', inner='box', orient='h')\n",
    "ax.axes.set_xlim(-50, 300)"
   ]
  },
  {
   "cell_type": "markdown",
   "id": "1dd2569b-93e4-4785-8bb8-5891d3468a0b",
   "metadata": {},
   "source": [
    "## Comparing the results that are over 10 min and that are not"
   ]
  },
  {
   "cell_type": "code",
   "execution_count": 8,
   "id": "1c78458e-8fd6-45d2-a58b-ac41e24ae7d2",
   "metadata": {
    "tags": []
   },
   "outputs": [
    {
     "data": {
      "application/vnd.jupyter.widget-view+json": {
       "model_id": "f4bb7f7c2fa24697a5dcdf1c0d65a2fe",
       "version_major": 2,
       "version_minor": 0
      },
      "text/plain": [
       "Query is running:   0%|          |"
      ]
     },
     "metadata": {},
     "output_type": "display_data"
    },
    {
     "data": {
      "application/vnd.jupyter.widget-view+json": {
       "model_id": "3997891273a34ea1a5cbb17881873dc3",
       "version_major": 2,
       "version_minor": 0
      },
      "text/plain": [
       "Downloading:   0%|          |"
      ]
     },
     "metadata": {},
     "output_type": "display_data"
    }
   ],
   "source": [
    "%%bigquery df\n",
    "SELECT ARR_DELAY, DEP_DELAY\n",
    "FROM dsongcp.flights_tzcorr\n",
    "WHERE CANCELLED IS NOT True AND DIVERTED IS NOT True"
   ]
  },
  {
   "cell_type": "code",
   "execution_count": 9,
   "id": "5b89e325-eda8-48a1-974a-46adeba641ed",
   "metadata": {
    "tags": []
   },
   "outputs": [
    {
     "data": {
      "text/html": [
       "<div>\n",
       "<style scoped>\n",
       "    .dataframe tbody tr th:only-of-type {\n",
       "        vertical-align: middle;\n",
       "    }\n",
       "\n",
       "    .dataframe tbody tr th {\n",
       "        vertical-align: top;\n",
       "    }\n",
       "\n",
       "    .dataframe thead th {\n",
       "        text-align: right;\n",
       "    }\n",
       "</style>\n",
       "<table border=\"1\" class=\"dataframe\">\n",
       "  <thead>\n",
       "    <tr style=\"text-align: right;\">\n",
       "      <th></th>\n",
       "      <th>ARR_DELAY</th>\n",
       "      <th>DEP_DELAY</th>\n",
       "    </tr>\n",
       "  </thead>\n",
       "  <tbody>\n",
       "    <tr>\n",
       "      <th>count</th>\n",
       "      <td>5714008.0</td>\n",
       "      <td>5714008.0</td>\n",
       "    </tr>\n",
       "    <tr>\n",
       "      <th>mean</th>\n",
       "      <td>4.407057</td>\n",
       "      <td>9.294842</td>\n",
       "    </tr>\n",
       "    <tr>\n",
       "      <th>std</th>\n",
       "      <td>39.271297</td>\n",
       "      <td>36.889724</td>\n",
       "    </tr>\n",
       "    <tr>\n",
       "      <th>min</th>\n",
       "      <td>-87.0</td>\n",
       "      <td>-82.0</td>\n",
       "    </tr>\n",
       "    <tr>\n",
       "      <th>25%</th>\n",
       "      <td>-13.0</td>\n",
       "      <td>-5.0</td>\n",
       "    </tr>\n",
       "    <tr>\n",
       "      <th>50%</th>\n",
       "      <td>-5.0</td>\n",
       "      <td>-2.0</td>\n",
       "    </tr>\n",
       "    <tr>\n",
       "      <th>75%</th>\n",
       "      <td>8.0</td>\n",
       "      <td>7.0</td>\n",
       "    </tr>\n",
       "    <tr>\n",
       "      <th>max</th>\n",
       "      <td>1971.0</td>\n",
       "      <td>1988.0</td>\n",
       "    </tr>\n",
       "  </tbody>\n",
       "</table>\n",
       "</div>"
      ],
      "text/plain": [
       "       ARR_DELAY  DEP_DELAY\n",
       "count  5714008.0  5714008.0\n",
       "mean    4.407057   9.294842\n",
       "std    39.271297  36.889724\n",
       "min        -87.0      -82.0\n",
       "25%        -13.0       -5.0\n",
       "50%         -5.0       -2.0\n",
       "75%          8.0        7.0\n",
       "max       1971.0     1988.0"
      ]
     },
     "execution_count": 9,
     "metadata": {},
     "output_type": "execute_result"
    }
   ],
   "source": [
    "df.describe()"
   ]
  },
  {
   "cell_type": "code",
   "execution_count": 10,
   "id": "3f1f2b09-d590-4f76-83d7-64e3cecbc90f",
   "metadata": {
    "tags": []
   },
   "outputs": [],
   "source": [
    "df['ontime'] = df['DEP_DELAY'] < 10"
   ]
  },
  {
   "cell_type": "code",
   "execution_count": 11,
   "id": "d15f2392-6295-4dd5-8383-02f2e93fb4b4",
   "metadata": {
    "tags": []
   },
   "outputs": [
    {
     "data": {
      "text/plain": [
       "(-50.0, 300.0)"
      ]
     },
     "execution_count": 11,
     "metadata": {},
     "output_type": "execute_result"
    },
    {
     "data": {
      "image/png": "[encoded data removed]",
      "text/plain": [
       "<Figure size 640x480 with 1 Axes>"
      ]
     },
     "metadata": {},
     "output_type": "display_data"
    }
   ],
   "source": [
    "ax = sb.violinplot(data=df, x='ARR_DELAY', y='ontime', inner='box', orient='h')\n",
    "ax.set_xlim(-50, 300)"
   ]
  },
  {
   "cell_type": "markdown",
   "id": "cbd1a86c-a464-436b-8e61-07e2ee1f991e",
   "metadata": {},
   "source": [
    "Result shows that if departure delay is\n",
    "\n",
    "less than 10\n",
    "\n",
    "    the dataset is skewed toward around -5\n",
    "\n",
    "greater than equal to 10\n",
    "\n",
    "    the dataset is skewed toward high arrival delay\n",
    "    \n",
    "the unexpected distribution of data might affect the precision of prediction in the model I will will create.\n",
    "Next I will check what is going on with the departure delay."
   ]
  },
  {
   "cell_type": "code",
   "execution_count": 24,
   "id": "03645f93-9967-4026-8708-d93b83ee03af",
   "metadata": {
    "tags": []
   },
   "outputs": [
    {
     "data": {
      "application/vnd.jupyter.widget-view+json": {
       "model_id": "f2c93152ca114445ad0c11446be5fb1f",
       "version_major": 2,
       "version_minor": 0
      },
      "text/plain": [
       "Query is running:   0%|          |"
      ]
     },
     "metadata": {},
     "output_type": "display_data"
    },
    {
     "data": {
      "application/vnd.jupyter.widget-view+json": {
       "model_id": "ce1b636b176b433186b9e6b7f849cffa",
       "version_major": 2,
       "version_minor": 0
      },
      "text/plain": [
       "Downloading:   0%|          |"
      ]
     },
     "metadata": {},
     "output_type": "display_data"
    }
   ],
   "source": [
    "%%bigquery df\n",
    "SELECT\n",
    "  DEP_DELAY AS dep_delay,\n",
    "  COUNT(ARR_DELAY) AS arrived_flights,\n",
    "  AVG(ARR_DELAY) AS avg_arr_delay\n",
    "FROM `dsongcp-452504.dsongcp.flights_tzcorr`\n",
    "GROUP BY\n",
    "  DEP_DELAY\n",
    "HAVING DEP_DELAY > 10\n",
    "ORDER BY\n",
    "  DEP_DELAY ASC"
   ]
  },
  {
   "cell_type": "code",
   "execution_count": 25,
   "id": "25e66985-d7d2-4d17-88fe-5165b31b5acd",
   "metadata": {
    "tags": []
   },
   "outputs": [
    {
     "data": {
      "text/plain": [
       "<Axes: xlabel='dep_delay', ylabel='arrived_flights'>"
      ]
     },
     "execution_count": 25,
     "metadata": {},
     "output_type": "execute_result"
    },
    {
     "data": {
      "image/png": "[encoded data removed]",
      "text/plain": [
       "<Figure size 640x480 with 1 Axes>"
      ]
     },
     "metadata": {},
     "output_type": "display_data"
    }
   ],
   "source": [
    "sb.scatterplot(data=df, x='dep_delay', y='arrived_flights')"
   ]
  },
  {
   "cell_type": "code",
   "execution_count": 27,
   "id": "51261e0b-c0b3-4431-9c58-6b71d946fd98",
   "metadata": {
    "tags": []
   },
   "outputs": [
    {
     "data": {
      "text/html": [
       "<div>\n",
       "<style scoped>\n",
       "    .dataframe tbody tr th:only-of-type {\n",
       "        vertical-align: middle;\n",
       "    }\n",
       "\n",
       "    .dataframe tbody tr th {\n",
       "        vertical-align: top;\n",
       "    }\n",
       "\n",
       "    .dataframe thead th {\n",
       "        text-align: right;\n",
       "    }\n",
       "</style>\n",
       "<table border=\"1\" class=\"dataframe\">\n",
       "  <thead>\n",
       "    <tr style=\"text-align: right;\">\n",
       "      <th></th>\n",
       "      <th>dep_delay</th>\n",
       "      <th>arrived_flights</th>\n",
       "      <th>avg_arr_delay</th>\n",
       "    </tr>\n",
       "  </thead>\n",
       "  <tbody>\n",
       "    <tr>\n",
       "      <th>0</th>\n",
       "      <td>11</td>\n",
       "      <td>50023</td>\n",
       "      <td>5.825880</td>\n",
       "    </tr>\n",
       "    <tr>\n",
       "      <th>1</th>\n",
       "      <td>12</td>\n",
       "      <td>46925</td>\n",
       "      <td>6.750155</td>\n",
       "    </tr>\n",
       "    <tr>\n",
       "      <th>2</th>\n",
       "      <td>13</td>\n",
       "      <td>43543</td>\n",
       "      <td>7.900168</td>\n",
       "    </tr>\n",
       "    <tr>\n",
       "      <th>3</th>\n",
       "      <td>14</td>\n",
       "      <td>40904</td>\n",
       "      <td>8.851628</td>\n",
       "    </tr>\n",
       "    <tr>\n",
       "      <th>4</th>\n",
       "      <td>15</td>\n",
       "      <td>38835</td>\n",
       "      <td>9.916210</td>\n",
       "    </tr>\n",
       "  </tbody>\n",
       "</table>\n",
       "</div>"
      ],
      "text/plain": [
       "   dep_delay  arrived_flights  avg_arr_delay\n",
       "0         11            50023       5.825880\n",
       "1         12            46925       6.750155\n",
       "2         13            43543       7.900168\n",
       "3         14            40904       8.851628\n",
       "4         15            38835       9.916210"
      ]
     },
     "execution_count": 27,
     "metadata": {},
     "output_type": "execute_result"
    }
   ],
   "source": [
    "df.head()"
   ]
  },
  {
   "cell_type": "markdown",
   "id": "e652a34a-1d67-4963-864f-9c4d44e27905",
   "metadata": {},
   "source": [
    "## Removing oddball values\n",
    "\n",
    "--Motivation comes here--"
   ]
  },
  {
   "cell_type": "code",
   "execution_count": 5,
   "id": "b501ae17-326c-46e7-9fd8-d6b1af72c5f6",
   "metadata": {
    "tags": []
   },
   "outputs": [
    {
     "data": {
      "application/vnd.jupyter.widget-view+json": {
       "model_id": "df27bb62e3d14f2fbfd6cd104b9027ab",
       "version_major": 2,
       "version_minor": 0
      },
      "text/plain": [
       "Query is running:   0%|          |"
      ]
     },
     "metadata": {},
     "output_type": "display_data"
    },
    {
     "data": {
      "application/vnd.jupyter.widget-view+json": {
       "model_id": "f125822cd3c94ebf8aa614ac230b894c",
       "version_major": 2,
       "version_minor": 0
      },
      "text/plain": [
       "Downloading:   0%|          |"
      ]
     },
     "metadata": {},
     "output_type": "display_data"
    }
   ],
   "source": [
    "%%bigquery df\n",
    "SELECT\n",
    "    DEP_DELAY,\n",
    "    AVG(ARR_DELAY) as arrival_delay,\n",
    "    COUNT(ARR_DELAY) as numflights\n",
    "FROM `dsongcp-452504.dsongcp.flights_tzcorr`\n",
    "GROUP BY DEP_DELAY\n",
    "ORDER BY arrival_delay ASC"
   ]
  },
  {
   "cell_type": "code",
   "execution_count": 6,
   "id": "58269f68-8d3b-4b85-8c44-3609097d7208",
   "metadata": {
    "tags": []
   },
   "outputs": [
    {
     "data": {
      "text/html": [
       "<div>\n",
       "<style scoped>\n",
       "    .dataframe tbody tr th:only-of-type {\n",
       "        vertical-align: middle;\n",
       "    }\n",
       "\n",
       "    .dataframe tbody tr th {\n",
       "        vertical-align: top;\n",
       "    }\n",
       "\n",
       "    .dataframe thead th {\n",
       "        text-align: right;\n",
       "    }\n",
       "</style>\n",
       "<table border=\"1\" class=\"dataframe\">\n",
       "  <thead>\n",
       "    <tr style=\"text-align: right;\">\n",
       "      <th></th>\n",
       "      <th>DEP_DELAY</th>\n",
       "      <th>arrival_delay</th>\n",
       "      <th>numflights</th>\n",
       "    </tr>\n",
       "  </thead>\n",
       "  <tbody>\n",
       "    <tr>\n",
       "      <th>0</th>\n",
       "      <td>&lt;NA&gt;</td>\n",
       "      <td>NaN</td>\n",
       "      <td>0</td>\n",
       "    </tr>\n",
       "    <tr>\n",
       "      <th>1</th>\n",
       "      <td>1274</td>\n",
       "      <td>NaN</td>\n",
       "      <td>0</td>\n",
       "    </tr>\n",
       "    <tr>\n",
       "      <th>2</th>\n",
       "      <td>1157</td>\n",
       "      <td>NaN</td>\n",
       "      <td>0</td>\n",
       "    </tr>\n",
       "    <tr>\n",
       "      <th>3</th>\n",
       "      <td>944</td>\n",
       "      <td>NaN</td>\n",
       "      <td>0</td>\n",
       "    </tr>\n",
       "    <tr>\n",
       "      <th>4</th>\n",
       "      <td>1079</td>\n",
       "      <td>NaN</td>\n",
       "      <td>0</td>\n",
       "    </tr>\n",
       "    <tr>\n",
       "      <th>5</th>\n",
       "      <td>879</td>\n",
       "      <td>NaN</td>\n",
       "      <td>0</td>\n",
       "    </tr>\n",
       "    <tr>\n",
       "      <th>6</th>\n",
       "      <td>-68</td>\n",
       "      <td>-87.0</td>\n",
       "      <td>1</td>\n",
       "    </tr>\n",
       "    <tr>\n",
       "      <th>7</th>\n",
       "      <td>-82</td>\n",
       "      <td>-80.0</td>\n",
       "      <td>1</td>\n",
       "    </tr>\n",
       "    <tr>\n",
       "      <th>8</th>\n",
       "      <td>-61</td>\n",
       "      <td>-77.0</td>\n",
       "      <td>1</td>\n",
       "    </tr>\n",
       "    <tr>\n",
       "      <th>9</th>\n",
       "      <td>-52</td>\n",
       "      <td>-61.0</td>\n",
       "      <td>1</td>\n",
       "    </tr>\n",
       "  </tbody>\n",
       "</table>\n",
       "</div>"
      ],
      "text/plain": [
       "   DEP_DELAY  arrival_delay  numflights\n",
       "0       <NA>            NaN           0\n",
       "1       1274            NaN           0\n",
       "2       1157            NaN           0\n",
       "3        944            NaN           0\n",
       "4       1079            NaN           0\n",
       "5        879            NaN           0\n",
       "6        -68          -87.0           1\n",
       "7        -82          -80.0           1\n",
       "8        -61          -77.0           1\n",
       "9        -52          -61.0           1"
      ]
     },
     "execution_count": 6,
     "metadata": {},
     "output_type": "execute_result"
    }
   ],
   "source": [
    "df.head(10)"
   ]
  },
  {
   "cell_type": "code",
   "execution_count": 10,
   "id": "7f4aa221-6cf7-4679-aebf-fb583f1ebb92",
   "metadata": {
    "tags": []
   },
   "outputs": [
    {
     "data": {
      "text/html": [
       "<div>\n",
       "<style scoped>\n",
       "    .dataframe tbody tr th:only-of-type {\n",
       "        vertical-align: middle;\n",
       "    }\n",
       "\n",
       "    .dataframe tbody tr th {\n",
       "        vertical-align: top;\n",
       "    }\n",
       "\n",
       "    .dataframe thead th {\n",
       "        text-align: right;\n",
       "    }\n",
       "</style>\n",
       "<table border=\"1\" class=\"dataframe\">\n",
       "  <thead>\n",
       "    <tr style=\"text-align: right;\">\n",
       "      <th></th>\n",
       "      <th>DEP_DELAY</th>\n",
       "      <th>arrival_delay</th>\n",
       "      <th>numflights</th>\n",
       "    </tr>\n",
       "  </thead>\n",
       "  <tbody>\n",
       "    <tr>\n",
       "      <th>1217</th>\n",
       "      <td>1988</td>\n",
       "      <td>1971.0</td>\n",
       "      <td>1</td>\n",
       "    </tr>\n",
       "    <tr>\n",
       "      <th>1216</th>\n",
       "      <td>1878</td>\n",
       "      <td>1898.0</td>\n",
       "      <td>1</td>\n",
       "    </tr>\n",
       "    <tr>\n",
       "      <th>1215</th>\n",
       "      <td>1670</td>\n",
       "      <td>1665.0</td>\n",
       "      <td>1</td>\n",
       "    </tr>\n",
       "    <tr>\n",
       "      <th>1214</th>\n",
       "      <td>1631</td>\n",
       "      <td>1638.0</td>\n",
       "      <td>1</td>\n",
       "    </tr>\n",
       "    <tr>\n",
       "      <th>1213</th>\n",
       "      <td>1625</td>\n",
       "      <td>1636.0</td>\n",
       "      <td>1</td>\n",
       "    </tr>\n",
       "    <tr>\n",
       "      <th>1212</th>\n",
       "      <td>1649</td>\n",
       "      <td>1636.0</td>\n",
       "      <td>1</td>\n",
       "    </tr>\n",
       "    <tr>\n",
       "      <th>1211</th>\n",
       "      <td>1587</td>\n",
       "      <td>1627.0</td>\n",
       "      <td>1</td>\n",
       "    </tr>\n",
       "    <tr>\n",
       "      <th>1210</th>\n",
       "      <td>1609</td>\n",
       "      <td>1598.0</td>\n",
       "      <td>1</td>\n",
       "    </tr>\n",
       "    <tr>\n",
       "      <th>1209</th>\n",
       "      <td>1604</td>\n",
       "      <td>1593.0</td>\n",
       "      <td>1</td>\n",
       "    </tr>\n",
       "    <tr>\n",
       "      <th>1208</th>\n",
       "      <td>1589</td>\n",
       "      <td>1576.0</td>\n",
       "      <td>1</td>\n",
       "    </tr>\n",
       "  </tbody>\n",
       "</table>\n",
       "</div>"
      ],
      "text/plain": [
       "      DEP_DELAY  arrival_delay  numflights\n",
       "1217       1988         1971.0           1\n",
       "1216       1878         1898.0           1\n",
       "1215       1670         1665.0           1\n",
       "1214       1631         1638.0           1\n",
       "1213       1625         1636.0           1\n",
       "1212       1649         1636.0           1\n",
       "1211       1587         1627.0           1\n",
       "1210       1609         1598.0           1\n",
       "1209       1604         1593.0           1\n",
       "1208       1589         1576.0           1"
      ]
     },
     "execution_count": 10,
     "metadata": {},
     "output_type": "execute_result"
    }
   ],
   "source": [
    "df.sort_values(by='arrival_delay', ascending=False).head(10)"
   ]
  },
  {
   "cell_type": "markdown",
   "id": "f9007c92-7425-49cc-955b-ea89b5c658b4",
   "metadata": {},
   "source": [
    "Write insigts here"
   ]
  },
  {
   "cell_type": "code",
   "execution_count": 11,
   "id": "0383b582-191d-4d22-ab27-65c7819bc99d",
   "metadata": {
    "tags": []
   },
   "outputs": [
    {
     "data": {
      "application/vnd.jupyter.widget-view+json": {
       "model_id": "c52584febc8c40e785392874b752fdec",
       "version_major": 2,
       "version_minor": 0
      },
      "text/plain": [
       "Query is running:   0%|          |"
      ]
     },
     "metadata": {},
     "output_type": "display_data"
    },
    {
     "data": {
      "application/vnd.jupyter.widget-view+json": {
       "model_id": "5a43d46a77c54d75a334ac2c18d7a6be",
       "version_major": 2,
       "version_minor": 0
      },
      "text/plain": [
       "Downloading:   0%|          |"
      ]
     },
     "metadata": {},
     "output_type": "display_data"
    }
   ],
   "source": [
    "%%bigquery df\n",
    "SELECT\n",
    "    DEP_DELAY,\n",
    "    AVG(ARR_DELAY) as arrival_delay,\n",
    "    STDDEV(ARR_DELAY) as std_arrival_delay,\n",
    "    COUNT(ARR_DELAY) as numflights\n",
    "FROM `dsongcp-452504.dsongcp.flights_tzcorr`\n",
    "GROUP BY DEP_DELAY\n",
    "HAVING numflights > 370\n",
    "ORDER BY arrival_delay ASC"
   ]
  },
  {
   "cell_type": "code",
   "execution_count": 12,
   "id": "3d5d9844-6ba0-4ee1-ad7f-9e6561c7136c",
   "metadata": {
    "tags": []
   },
   "outputs": [
    {
     "data": {
      "text/plain": [
       "<Axes: xlabel='DEP_DELAY'>"
      ]
     },
     "execution_count": 12,
     "metadata": {},
     "output_type": "execute_result"
    },
    {
     "data": {
      "image/png": "[encoded data removed]",
      "text/plain": [
       "<Figure size 640x480 with 1 Axes>"
      ]
     },
     "metadata": {},
     "output_type": "display_data"
    }
   ],
   "source": [
    "df.plot(\n",
    "    kind='line',\n",
    "    x='DEP_DELAY',\n",
    "    y='arrival_delay',\n",
    "    yerr='std_arrival_delay',\n",
    "    ecolor='lightblue'\n",
    ")"
   ]
  },
  {
   "cell_type": "code",
   "execution_count": null,
   "id": "76bc4bb6-82c7-47b2-99fc-a9bf689a8d89",
   "metadata": {},
   "outputs": [],
   "source": []
  }
 ],
 "metadata": {
  "environment": {
   "kernel": "conda-base-py",
   "name": "workbench-notebooks.m131",
   "type": "gcloud",
   "uri": "us-docker.pkg.dev/deeplearning-platform-release/gcr.io/workbench-notebooks:m131"
  },
  "kernelspec": {
   "display_name": "Python 3 (ipykernel)",
   "language": "python",
   "name": "conda-base-py"
  },
  "language_info": {
   "codemirror_mode": {
    "name": "ipython",
    "version": 3
   },
   "file_extension": ".py",
   "mimetype": "text/x-python",
   "name": "python",
   "nbconvert_exporter": "python",
   "pygments_lexer": "ipython3",
   "version": "3.10.18"
  }
 },
 "nbformat": 4,
 "nbformat_minor": 5
}
